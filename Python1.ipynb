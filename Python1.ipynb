{
  "nbformat": 4,
  "nbformat_minor": 0,
  "metadata": {
    "colab": {
      "provenance": [],
      "include_colab_link": true
    },
    "kernelspec": {
      "name": "python3",
      "display_name": "Python 3"
    }
  },
  "cells": [
    {
      "cell_type": "markdown",
      "metadata": {
        "id": "view-in-github",
        "colab_type": "text"
      },
      "source": [
        "<a href=\"https://colab.research.google.com/github/YSHS-APCSP-2022/python-1-Adam-Warner/blob/main/Python1.ipynb\" target=\"_parent\"><img src=\"https://colab.research.google.com/assets/colab-badge.svg\" alt=\"Open In Colab\"/></a>"
      ]
    },
    {
      "cell_type": "markdown",
      "metadata": {
        "id": "tcGfUOOuvqdx"
      },
      "source": [
        "### Task 1 - Basic Math"
      ]
    },
    {
      "cell_type": "markdown",
      "metadata": {
        "id": "VKryyOuzvvZe"
      },
      "source": [
        "Python is a programming language that allows the devleopment of many desktop, web, scientific, and mathematical applications (apps). We will start exploring Python by doing some basic math. "
      ]
    },
    {
      "cell_type": "markdown",
      "metadata": {
        "id": "DZcbIj2HwMip"
      },
      "source": [
        "1. Type in 3 + 5 into a new iPython code cell. Then click the \"play\" icon button on the left of the cell (or control+Enter) to run the code. What is the output? "
      ]
    },
    {
      "cell_type": "code",
      "metadata": {
        "id": "lPwBlljTQPUv",
        "colab": {
          "base_uri": "https://localhost:8080/"
        },
        "outputId": "2b2a96aa-685d-4936-e354-bbb4357e568d"
      },
      "source": [
        "3+5"
      ],
      "execution_count": null,
      "outputs": [
        {
          "output_type": "execute_result",
          "data": {
            "text/plain": [
              "8"
            ]
          },
          "metadata": {},
          "execution_count": 1
        }
      ]
    },
    {
      "cell_type": "markdown",
      "source": [
        "The output is 8."
      ],
      "metadata": {
        "id": "o4VsTSs39oee"
      }
    },
    {
      "cell_type": "markdown",
      "metadata": {
        "id": "qVr5Nry_w8gv"
      },
      "source": [
        "2. Type in \n",
        "\n",
        "```\n",
        "2**3\n",
        "```\n",
        "  into a new iPython code cell. Then click the \"play\" icon button on the left \n",
        "  of the cell (or control+Enter) to run the code. What is the output? What \n",
        "  mathematical operation does the double asterisk signify?"
      ]
    },
    {
      "cell_type": "code",
      "metadata": {
        "id": "-42ip9usQQYL",
        "colab": {
          "base_uri": "https://localhost:8080/"
        },
        "outputId": "56a7c637-09e9-443c-c824-6c15b6d47687"
      },
      "source": [
        "2**3"
      ],
      "execution_count": null,
      "outputs": [
        {
          "output_type": "execute_result",
          "data": {
            "text/plain": [
              "8"
            ]
          },
          "metadata": {},
          "execution_count": 2
        }
      ]
    },
    {
      "cell_type": "markdown",
      "source": [
        "The output is 8. The double asterisk signifies the exponential sign (^), so 2**3 means \"Two to the power of three.\""
      ],
      "metadata": {
        "id": "A7phYT-u950l"
      }
    },
    {
      "cell_type": "markdown",
      "metadata": {
        "id": "jRrhQuZaxCJ4"
      },
      "source": [
        "3. Type in \n",
        "```\n",
        "5*4\n",
        "```\n",
        "into a new iPython code cell. Then click the \"play\" icon button on the left of the cell (or control+Enter) to run the code. What is the output? What mathematical operation does the single asterisk represent? "
      ]
    },
    {
      "cell_type": "code",
      "metadata": {
        "id": "HVIHjJsDQStQ",
        "colab": {
          "base_uri": "https://localhost:8080/"
        },
        "outputId": "7171cc12-b358-4533-9ec4-5932425d8ef1"
      },
      "source": [
        "5*4"
      ],
      "execution_count": null,
      "outputs": [
        {
          "output_type": "execute_result",
          "data": {
            "text/plain": [
              "20"
            ]
          },
          "metadata": {},
          "execution_count": 3
        }
      ]
    },
    {
      "cell_type": "markdown",
      "source": [
        "The output is 20. The single asterisk signifies the multiplication sign (x), so 5*4 means \"Five times four.\""
      ],
      "metadata": {
        "id": "r7Xe2Ibl-OP1"
      }
    },
    {
      "cell_type": "markdown",
      "metadata": {
        "id": "7C-ejuYzxLJj"
      },
      "source": [
        "4. Type in print(10/3) into a new iPython code cell. Then type in print(10/3.0) into another iPython code cell. What is the difference in the outputs? Why might this difference be important?"
      ]
    },
    {
      "cell_type": "code",
      "metadata": {
        "id": "tGI6n4vNQWqs",
        "colab": {
          "base_uri": "https://localhost:8080/"
        },
        "outputId": "487c47a3-4b26-43d8-9cdd-4313835671b9"
      },
      "source": [
        "(10/3)"
      ],
      "execution_count": null,
      "outputs": [
        {
          "output_type": "execute_result",
          "data": {
            "text/plain": [
              "3.3333333333333335"
            ]
          },
          "metadata": {},
          "execution_count": 4
        }
      ]
    },
    {
      "cell_type": "code",
      "metadata": {
        "id": "l4ZgvscIQXA5",
        "colab": {
          "base_uri": "https://localhost:8080/"
        },
        "outputId": "f57911f9-4a8c-4e61-e142-2fb962c9f7e4"
      },
      "source": [
        "(10/3.0)"
      ],
      "execution_count": null,
      "outputs": [
        {
          "output_type": "execute_result",
          "data": {
            "text/plain": [
              "3.3333333333333335"
            ]
          },
          "metadata": {},
          "execution_count": 5
        }
      ]
    },
    {
      "cell_type": "markdown",
      "metadata": {
        "id": "_b-pxjL3QXpf"
      },
      "source": [
        "There is no difference in the outputs. This is important because the numbers given are identical, just formatted differently."
      ]
    },
    {
      "cell_type": "markdown",
      "metadata": {
        "id": "s1foBABIxaT3"
      },
      "source": [
        "### Task 2 - Conditional Statements"
      ]
    },
    {
      "cell_type": "markdown",
      "metadata": {
        "id": "9AWiM7bIxg3I"
      },
      "source": [
        "Conditional statements are if...then statements that allow evaluation (true/false) of a statement. These conditional statements can be very powerful, as they allow you to dictate an or action in response to the conditions present.\n",
        "\n",
        "For instance :\n",
        "\n",
        "\n",
        "\n",
        "```\n",
        "n = 3\n",
        "if n > 0:\n",
        "print \"wow\"\n",
        "\n",
        "```\n",
        "\n",
        "This conditional statement print \"wow\" to the console when the condition of n*2 > 1 is met. Play around with the code below to change the readout\n"
      ]
    },
    {
      "cell_type": "code",
      "metadata": {
        "id": "-PVw5KUuySmw"
      },
      "source": [
        "n = -1\n",
        "\n",
        "if n*2 > 1:\n",
        "  print(\"wow\")"
      ],
      "execution_count": null,
      "outputs": []
    },
    {
      "cell_type": "markdown",
      "metadata": {
        "id": "pW8_oQiyywHY"
      },
      "source": [
        "Let's say that you want to have something print out even if the number is less than zero. We can add an else statement to the condition to facilitate this : "
      ]
    },
    {
      "cell_type": "code",
      "metadata": {
        "id": "RxTokniZzFw-",
        "colab": {
          "base_uri": "https://localhost:8080/"
        },
        "outputId": "7ded326f-a783-489f-8dd1-e7d3ff25d08d"
      },
      "source": [
        "n = -1\n",
        "\n",
        "if n*2 > 1:\n",
        "  print(\"wow\")\n",
        "else:\n",
        "\n",
        "  print(\"umm...no\")"
      ],
      "execution_count": null,
      "outputs": [
        {
          "output_type": "stream",
          "name": "stdout",
          "text": [
            "umm...no\n"
          ]
        }
      ]
    },
    {
      "cell_type": "markdown",
      "metadata": {
        "id": "vDGCuD09yyJ4"
      },
      "source": [
        "### Challenges\n",
        "1. Create a conditional statement that evaluates whether someone is old enough to vote. Make sure you have some readouts along with an if...else conditional statement.\n",
        "\n",
        "2. Write a conditional statement evaluating whether two variables (x and y) are both greater than zero. Have a printout statement for a true and a false evaluation.\n",
        "\n",
        "3. Create a conditional statement of your choice. Must include if...else statement, print statement, and a mathematical operation. "
      ]
    },
    {
      "cell_type": "code",
      "source": [
        "# Voting Age\n",
        "\n",
        "a = 18 \n",
        "\n",
        "if a >= 18:\n",
        "  print(\"You are old enough to vote.\")\n",
        "else:\n",
        "  print(\"You are not old enough to vote.\")\n",
        "\n",
        "# Variables above 0\n",
        "\n",
        "x = 1\n",
        "y = 1\n",
        "\n",
        "if x > 0 and y > 0:\n",
        "  print(\"Both variables are above zero.\")\n",
        "else:\n",
        "  print(\"One or both of the variables are not zero.\") \n",
        "\n",
        "# Grade Average\n",
        "\n",
        "grade1per = 89\n",
        "grade2per = 95\n",
        "\n",
        "if (grade1per + grade2per) / 2 >= 92:\n",
        "  print(\"You have an A!\")\n",
        "else:\n",
        "  print(\"You do not have an A.\")"
      ],
      "metadata": {
        "colab": {
          "base_uri": "https://localhost:8080/"
        },
        "id": "_wEezGdD-6wm",
        "outputId": "a7eaf016-7968-458a-91cc-92128668b43f"
      },
      "execution_count": null,
      "outputs": [
        {
          "output_type": "stream",
          "name": "stdout",
          "text": [
            "You are old enough to vote.\n",
            "Both variables are above zero.\n",
            "You have an A!\n"
          ]
        }
      ]
    }
  ]
}